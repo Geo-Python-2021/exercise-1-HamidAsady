{
 "cells": [
  {
   "cell_type": "code",
   "execution_count": 13,
   "id": "2b77d915-213b-4c30-9dee-edb8937f9b55",
   "metadata": {},
   "outputs": [
    {
     "name": "stdin",
     "output_type": "stream",
     "text": [
      "How Much Do you Like Ice Cream from 1-10 8\n"
     ]
    },
    {
     "name": "stdout",
     "output_type": "stream",
     "text": [
      "Your Rating for Ice Cream is 8\n"
     ]
    },
    {
     "name": "stdin",
     "output_type": "stream",
     "text": [
      "How Much Do You Enjoy Sleeping? 9\n"
     ]
    },
    {
     "name": "stdout",
     "output_type": "stream",
     "text": [
      "You Enjoy Sleeping: 9 Hrs\n"
     ]
    }
   ],
   "source": [
    "ice_cream_rating=int(input(\"How Much Do you Like Ice Cream from 1-10\"))\n",
    "print(\"Your Rating for Ice Cream is\",ice_cream_rating)\n",
    "sleeping_rating=int(input(\"How Much Do You Enjoy Sleeping?\"))\n",
    "print(\"You Enjoy Sleeping:\",sleeping_rating,\"Hrs\")"
   ]
  },
  {
   "cell_type": "code",
   "execution_count": 20,
   "id": "11aa82a0-fa0a-4d8b-9f4c-b2b81993b4af",
   "metadata": {},
   "outputs": [
    {
     "name": "stdin",
     "output_type": "stream",
     "text": [
      "First Name Hamid\n",
      "Last Name Asady\n"
     ]
    },
    {
     "name": "stdout",
     "output_type": "stream",
     "text": [
      "My Name is Hamid Asady\n"
     ]
    }
   ],
   "source": [
    "first_name=input(\"First Name\")\n",
    "last_name=input(\"Last Name\")\n",
    "my_name=str(first_name+\" \"+last_name)\n",
    "print(\"My Name is\",my_name)"
   ]
  },
  {
   "cell_type": "code",
   "execution_count": 26,
   "id": "bc276501-f8dd-432a-b06a-924d1348b279",
   "metadata": {},
   "outputs": [
    {
     "name": "stdout",
     "output_type": "stream",
     "text": [
      "Happiness Rating is 8.5\n"
     ]
    }
   ],
   "source": [
    "happiness_rating=(ice_cream_rating+sleeping_rating)/2\n",
    "print(\"Happiness Rating is\",happiness_rating)"
   ]
  },
  {
   "cell_type": "markdown",
   "id": "d234c775-ce41-4ce8-98c8-6d7ddde5bf53",
   "metadata": {},
   "source": [
    "No the Values are Ok"
   ]
  },
  {
   "cell_type": "code",
   "execution_count": 27,
   "id": "9407c904-a29c-490f-bd1f-32edd47c8014",
   "metadata": {},
   "outputs": [
    {
     "name": "stdout",
     "output_type": "stream",
     "text": [
      "My name is Hamid and I give eating ice cream a score of 8 out of 10!\n",
      "I am Hamid Asady and my sleeping enjoyment rating is 9 / 10!\n",
      "Based on the factors above, my happiness rating is 8.5 out of 10, or 85.0 %!\n"
     ]
    }
   ],
   "source": [
    "print(\"My name is\",first_name,\"and I give eating ice cream a score of\",ice_cream_rating,\"out of 10!\")\n",
    "print(\"I am\",my_name,\"and my sleeping enjoyment rating is\",sleeping_rating,\"/ 10!\")\n",
    "print(\"Based on the factors above, my happiness rating is\",happiness_rating,\"out of 10, or\",happiness_rating*10,\"%!\")"
   ]
  },
  {
   "cell_type": "code",
   "execution_count": null,
   "id": "12ea6ae7-65ae-42cf-8680-1cd58599a6ef",
   "metadata": {},
   "outputs": [],
   "source": []
  }
 ],
 "metadata": {
  "kernelspec": {
   "display_name": "Python 3 (ipykernel)",
   "language": "python",
   "name": "python3"
  },
  "language_info": {
   "codemirror_mode": {
    "name": "ipython",
    "version": 3
   },
   "file_extension": ".py",
   "mimetype": "text/x-python",
   "name": "python",
   "nbconvert_exporter": "python",
   "pygments_lexer": "ipython3",
   "version": "3.8.10"
  }
 },
 "nbformat": 4,
 "nbformat_minor": 5
}
